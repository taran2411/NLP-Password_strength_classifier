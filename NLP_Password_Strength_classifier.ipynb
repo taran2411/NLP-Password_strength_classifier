{
  "nbformat": 4,
  "nbformat_minor": 0,
  "metadata": {
    "kernelspec": {
      "display_name": "Python 3",
      "language": "python",
      "name": "python3"
    },
    "language_info": {
      "codemirror_mode": {
        "name": "ipython",
        "version": 3
      },
      "file_extension": ".py",
      "mimetype": "text/x-python",
      "name": "python",
      "nbconvert_exporter": "python",
      "pygments_lexer": "ipython3",
      "version": "3.7.4"
    },
    "colab": {
      "name": "NLP_Password_Strength_classifier.ipynb",
      "provenance": [],
      "include_colab_link": true
    }
  },
  "cells": [
    {
      "cell_type": "markdown",
      "metadata": {
        "id": "view-in-github",
        "colab_type": "text"
      },
      "source": [
        "<a href=\"https://colab.research.google.com/github/taran2411/NLP-Password_strength_classifier/blob/main/NLP_Password_Strength_classifier.ipynb\" target=\"_parent\"><img src=\"https://colab.research.google.com/assets/colab-badge.svg\" alt=\"Open In Colab\"/></a>"
      ]
    },
    {
      "cell_type": "code",
      "metadata": {
        "id": "Y5YHsgCfswar"
      },
      "source": [
        "import pandas as pd\n",
        "import numpy as np\n",
        "import seaborn as sns\n",
        "import warnings\n",
        "warnings.filterwarnings('ignore')"
      ],
      "execution_count": 1,
      "outputs": []
    },
    {
      "cell_type": "markdown",
      "metadata": {
        "id": "3jPxDe43swa2"
      },
      "source": [
        "#### REading dataset"
      ]
    },
    {
      "cell_type": "code",
      "metadata": {
        "id": "KILBnKyLswa5",
        "outputId": "a6502b51-15a1-4e2b-a703-a8c99f759703",
        "colab": {
          "base_uri": "https://localhost:8080/",
          "height": 275
        }
      },
      "source": [
        "data=pd.read_csv('/content/data.csv',error_bad_lines=False)\n",
        "data.head()"
      ],
      "execution_count": 5,
      "outputs": [
        {
          "output_type": "stream",
          "text": [
            "b'Skipping line 2810: expected 2 fields, saw 5\\nSkipping line 4641: expected 2 fields, saw 5\\nSkipping line 7171: expected 2 fields, saw 5\\nSkipping line 11220: expected 2 fields, saw 5\\nSkipping line 13809: expected 2 fields, saw 5\\nSkipping line 14132: expected 2 fields, saw 5\\nSkipping line 14293: expected 2 fields, saw 5\\nSkipping line 14865: expected 2 fields, saw 5\\nSkipping line 17419: expected 2 fields, saw 5\\nSkipping line 22801: expected 2 fields, saw 5\\nSkipping line 25001: expected 2 fields, saw 5\\nSkipping line 26603: expected 2 fields, saw 5\\nSkipping line 26742: expected 2 fields, saw 5\\nSkipping line 29702: expected 2 fields, saw 5\\nSkipping line 32767: expected 2 fields, saw 5\\nSkipping line 32878: expected 2 fields, saw 5\\nSkipping line 35643: expected 2 fields, saw 5\\nSkipping line 36550: expected 2 fields, saw 5\\nSkipping line 38732: expected 2 fields, saw 5\\nSkipping line 40567: expected 2 fields, saw 5\\nSkipping line 40576: expected 2 fields, saw 5\\nSkipping line 41864: expected 2 fields, saw 5\\nSkipping line 46861: expected 2 fields, saw 5\\nSkipping line 47939: expected 2 fields, saw 5\\nSkipping line 48628: expected 2 fields, saw 5\\nSkipping line 48908: expected 2 fields, saw 5\\nSkipping line 57582: expected 2 fields, saw 5\\nSkipping line 58782: expected 2 fields, saw 5\\nSkipping line 58984: expected 2 fields, saw 5\\nSkipping line 61518: expected 2 fields, saw 5\\nSkipping line 63451: expected 2 fields, saw 5\\nSkipping line 68141: expected 2 fields, saw 5\\nSkipping line 72083: expected 2 fields, saw 5\\nSkipping line 74027: expected 2 fields, saw 5\\nSkipping line 77811: expected 2 fields, saw 5\\nSkipping line 83958: expected 2 fields, saw 5\\nSkipping line 85295: expected 2 fields, saw 5\\nSkipping line 88665: expected 2 fields, saw 5\\nSkipping line 89198: expected 2 fields, saw 5\\nSkipping line 92499: expected 2 fields, saw 5\\nSkipping line 92751: expected 2 fields, saw 5\\nSkipping line 93689: expected 2 fields, saw 5\\nSkipping line 94776: expected 2 fields, saw 5\\nSkipping line 97334: expected 2 fields, saw 5\\nSkipping line 102316: expected 2 fields, saw 5\\nSkipping line 103421: expected 2 fields, saw 5\\nSkipping line 106872: expected 2 fields, saw 5\\nSkipping line 109363: expected 2 fields, saw 5\\nSkipping line 110117: expected 2 fields, saw 5\\nSkipping line 110465: expected 2 fields, saw 5\\nSkipping line 113843: expected 2 fields, saw 5\\nSkipping line 115634: expected 2 fields, saw 5\\nSkipping line 121518: expected 2 fields, saw 5\\nSkipping line 123692: expected 2 fields, saw 5\\nSkipping line 124708: expected 2 fields, saw 5\\nSkipping line 129608: expected 2 fields, saw 5\\nSkipping line 133176: expected 2 fields, saw 5\\nSkipping line 135532: expected 2 fields, saw 5\\nSkipping line 138042: expected 2 fields, saw 5\\nSkipping line 139485: expected 2 fields, saw 5\\nSkipping line 140401: expected 2 fields, saw 5\\nSkipping line 144093: expected 2 fields, saw 5\\nSkipping line 149850: expected 2 fields, saw 5\\nSkipping line 151831: expected 2 fields, saw 5\\nSkipping line 158014: expected 2 fields, saw 5\\nSkipping line 162047: expected 2 fields, saw 5\\nSkipping line 164515: expected 2 fields, saw 5\\nSkipping line 170313: expected 2 fields, saw 5\\nSkipping line 171325: expected 2 fields, saw 5\\nSkipping line 171424: expected 2 fields, saw 5\\nSkipping line 175920: expected 2 fields, saw 5\\nSkipping line 176210: expected 2 fields, saw 5\\nSkipping line 183603: expected 2 fields, saw 5\\nSkipping line 190264: expected 2 fields, saw 5\\nSkipping line 191683: expected 2 fields, saw 5\\nSkipping line 191988: expected 2 fields, saw 5\\nSkipping line 195450: expected 2 fields, saw 5\\nSkipping line 195754: expected 2 fields, saw 5\\nSkipping line 197124: expected 2 fields, saw 5\\nSkipping line 199263: expected 2 fields, saw 5\\nSkipping line 202603: expected 2 fields, saw 5\\nSkipping line 209960: expected 2 fields, saw 5\\nSkipping line 213218: expected 2 fields, saw 5\\nSkipping line 217060: expected 2 fields, saw 5\\nSkipping line 220121: expected 2 fields, saw 5\\nSkipping line 223518: expected 2 fields, saw 5\\nSkipping line 226293: expected 2 fields, saw 5\\nSkipping line 227035: expected 2 fields, saw 7\\nSkipping line 227341: expected 2 fields, saw 5\\nSkipping line 227808: expected 2 fields, saw 5\\nSkipping line 228516: expected 2 fields, saw 5\\nSkipping line 228733: expected 2 fields, saw 5\\nSkipping line 232043: expected 2 fields, saw 5\\nSkipping line 232426: expected 2 fields, saw 5\\nSkipping line 234490: expected 2 fields, saw 5\\nSkipping line 239626: expected 2 fields, saw 5\\nSkipping line 240461: expected 2 fields, saw 5\\nSkipping line 244518: expected 2 fields, saw 5\\nSkipping line 245395: expected 2 fields, saw 5\\nSkipping line 246168: expected 2 fields, saw 5\\nSkipping line 246655: expected 2 fields, saw 5\\nSkipping line 246752: expected 2 fields, saw 5\\nSkipping line 247189: expected 2 fields, saw 5\\nSkipping line 250276: expected 2 fields, saw 5\\nSkipping line 255327: expected 2 fields, saw 5\\nSkipping line 257094: expected 2 fields, saw 5\\n'\n",
            "b'Skipping line 264626: expected 2 fields, saw 5\\nSkipping line 265028: expected 2 fields, saw 5\\nSkipping line 269150: expected 2 fields, saw 5\\nSkipping line 271360: expected 2 fields, saw 5\\nSkipping line 273975: expected 2 fields, saw 5\\nSkipping line 274742: expected 2 fields, saw 5\\nSkipping line 276227: expected 2 fields, saw 5\\nSkipping line 279807: expected 2 fields, saw 5\\nSkipping line 283425: expected 2 fields, saw 5\\nSkipping line 287468: expected 2 fields, saw 5\\nSkipping line 292995: expected 2 fields, saw 5\\nSkipping line 293496: expected 2 fields, saw 5\\nSkipping line 293735: expected 2 fields, saw 5\\nSkipping line 295060: expected 2 fields, saw 5\\nSkipping line 296643: expected 2 fields, saw 5\\nSkipping line 296848: expected 2 fields, saw 5\\nSkipping line 308926: expected 2 fields, saw 5\\nSkipping line 310360: expected 2 fields, saw 5\\nSkipping line 317004: expected 2 fields, saw 5\\nSkipping line 318207: expected 2 fields, saw 5\\nSkipping line 331783: expected 2 fields, saw 5\\nSkipping line 333864: expected 2 fields, saw 5\\nSkipping line 335958: expected 2 fields, saw 5\\nSkipping line 336290: expected 2 fields, saw 5\\nSkipping line 343526: expected 2 fields, saw 5\\nSkipping line 343857: expected 2 fields, saw 5\\nSkipping line 344059: expected 2 fields, saw 5\\nSkipping line 348691: expected 2 fields, saw 5\\nSkipping line 353446: expected 2 fields, saw 5\\nSkipping line 357073: expected 2 fields, saw 5\\nSkipping line 359753: expected 2 fields, saw 5\\nSkipping line 359974: expected 2 fields, saw 5\\nSkipping line 366534: expected 2 fields, saw 5\\nSkipping line 369514: expected 2 fields, saw 5\\nSkipping line 377759: expected 2 fields, saw 5\\nSkipping line 379327: expected 2 fields, saw 5\\nSkipping line 380769: expected 2 fields, saw 5\\nSkipping line 381073: expected 2 fields, saw 5\\nSkipping line 381489: expected 2 fields, saw 5\\nSkipping line 386304: expected 2 fields, saw 5\\nSkipping line 387635: expected 2 fields, saw 5\\nSkipping line 389613: expected 2 fields, saw 5\\nSkipping line 392604: expected 2 fields, saw 5\\nSkipping line 393184: expected 2 fields, saw 5\\nSkipping line 395530: expected 2 fields, saw 5\\nSkipping line 396939: expected 2 fields, saw 5\\nSkipping line 397385: expected 2 fields, saw 5\\nSkipping line 397509: expected 2 fields, saw 5\\nSkipping line 402902: expected 2 fields, saw 5\\nSkipping line 405187: expected 2 fields, saw 5\\nSkipping line 408412: expected 2 fields, saw 5\\nSkipping line 419423: expected 2 fields, saw 5\\nSkipping line 420962: expected 2 fields, saw 5\\nSkipping line 425965: expected 2 fields, saw 5\\nSkipping line 427496: expected 2 fields, saw 5\\nSkipping line 438881: expected 2 fields, saw 5\\nSkipping line 439776: expected 2 fields, saw 5\\nSkipping line 440345: expected 2 fields, saw 5\\nSkipping line 445507: expected 2 fields, saw 5\\nSkipping line 445548: expected 2 fields, saw 5\\nSkipping line 447184: expected 2 fields, saw 5\\nSkipping line 448603: expected 2 fields, saw 5\\nSkipping line 451732: expected 2 fields, saw 5\\nSkipping line 458249: expected 2 fields, saw 5\\nSkipping line 460274: expected 2 fields, saw 5\\nSkipping line 467630: expected 2 fields, saw 5\\nSkipping line 473961: expected 2 fields, saw 5\\nSkipping line 476281: expected 2 fields, saw 5\\nSkipping line 478010: expected 2 fields, saw 5\\nSkipping line 478322: expected 2 fields, saw 5\\nSkipping line 479999: expected 2 fields, saw 5\\nSkipping line 480898: expected 2 fields, saw 5\\nSkipping line 481688: expected 2 fields, saw 5\\nSkipping line 485193: expected 2 fields, saw 5\\nSkipping line 485519: expected 2 fields, saw 5\\nSkipping line 486000: expected 2 fields, saw 5\\nSkipping line 489063: expected 2 fields, saw 5\\nSkipping line 494525: expected 2 fields, saw 5\\nSkipping line 495009: expected 2 fields, saw 5\\nSkipping line 501954: expected 2 fields, saw 5\\nSkipping line 508035: expected 2 fields, saw 5\\nSkipping line 508828: expected 2 fields, saw 5\\nSkipping line 509833: expected 2 fields, saw 5\\nSkipping line 510410: expected 2 fields, saw 5\\nSkipping line 518229: expected 2 fields, saw 5\\nSkipping line 520302: expected 2 fields, saw 5\\nSkipping line 520340: expected 2 fields, saw 5\\n'\n",
            "b'Skipping line 525174: expected 2 fields, saw 5\\nSkipping line 526251: expected 2 fields, saw 5\\nSkipping line 529611: expected 2 fields, saw 5\\nSkipping line 531398: expected 2 fields, saw 5\\nSkipping line 534146: expected 2 fields, saw 5\\nSkipping line 544954: expected 2 fields, saw 5\\nSkipping line 553002: expected 2 fields, saw 5\\nSkipping line 553883: expected 2 fields, saw 5\\nSkipping line 553887: expected 2 fields, saw 5\\nSkipping line 553915: expected 2 fields, saw 5\\nSkipping line 554172: expected 2 fields, saw 5\\nSkipping line 563534: expected 2 fields, saw 5\\nSkipping line 565191: expected 2 fields, saw 5\\nSkipping line 574108: expected 2 fields, saw 5\\nSkipping line 574412: expected 2 fields, saw 5\\nSkipping line 575985: expected 2 fields, saw 5\\nSkipping line 580091: expected 2 fields, saw 5\\nSkipping line 582682: expected 2 fields, saw 5\\nSkipping line 585885: expected 2 fields, saw 5\\nSkipping line 590171: expected 2 fields, saw 5\\nSkipping line 591924: expected 2 fields, saw 5\\nSkipping line 592515: expected 2 fields, saw 5\\nSkipping line 593888: expected 2 fields, saw 5\\nSkipping line 596245: expected 2 fields, saw 5\\nSkipping line 607344: expected 2 fields, saw 5\\nSkipping line 607633: expected 2 fields, saw 5\\nSkipping line 610939: expected 2 fields, saw 5\\nSkipping line 613638: expected 2 fields, saw 5\\nSkipping line 615643: expected 2 fields, saw 5\\nSkipping line 615901: expected 2 fields, saw 5\\nSkipping line 617389: expected 2 fields, saw 5\\nSkipping line 634641: expected 2 fields, saw 5\\nSkipping line 635755: expected 2 fields, saw 5\\nSkipping line 646243: expected 2 fields, saw 5\\nSkipping line 647165: expected 2 fields, saw 5\\nSkipping line 648610: expected 2 fields, saw 5\\nSkipping line 648772: expected 2 fields, saw 5\\nSkipping line 651833: expected 2 fields, saw 5\\nSkipping line 653663: expected 2 fields, saw 5\\nSkipping line 656233: expected 2 fields, saw 5\\nSkipping line 656694: expected 2 fields, saw 5\\nSkipping line 659783: expected 2 fields, saw 5\\nSkipping line 660478: expected 2 fields, saw 5\\nSkipping line 661133: expected 2 fields, saw 5\\nSkipping line 661736: expected 2 fields, saw 5\\nSkipping line 669827: expected 2 fields, saw 5\\n'\n"
          ],
          "name": "stderr"
        },
        {
          "output_type": "execute_result",
          "data": {
            "text/html": [
              "<div>\n",
              "<style scoped>\n",
              "    .dataframe tbody tr th:only-of-type {\n",
              "        vertical-align: middle;\n",
              "    }\n",
              "\n",
              "    .dataframe tbody tr th {\n",
              "        vertical-align: top;\n",
              "    }\n",
              "\n",
              "    .dataframe thead th {\n",
              "        text-align: right;\n",
              "    }\n",
              "</style>\n",
              "<table border=\"1\" class=\"dataframe\">\n",
              "  <thead>\n",
              "    <tr style=\"text-align: right;\">\n",
              "      <th></th>\n",
              "      <th>password</th>\n",
              "      <th>strength</th>\n",
              "    </tr>\n",
              "  </thead>\n",
              "  <tbody>\n",
              "    <tr>\n",
              "      <th>0</th>\n",
              "      <td>kzde5577</td>\n",
              "      <td>1</td>\n",
              "    </tr>\n",
              "    <tr>\n",
              "      <th>1</th>\n",
              "      <td>kino3434</td>\n",
              "      <td>1</td>\n",
              "    </tr>\n",
              "    <tr>\n",
              "      <th>2</th>\n",
              "      <td>visi7k1yr</td>\n",
              "      <td>1</td>\n",
              "    </tr>\n",
              "    <tr>\n",
              "      <th>3</th>\n",
              "      <td>megzy123</td>\n",
              "      <td>1</td>\n",
              "    </tr>\n",
              "    <tr>\n",
              "      <th>4</th>\n",
              "      <td>lamborghin1</td>\n",
              "      <td>1</td>\n",
              "    </tr>\n",
              "  </tbody>\n",
              "</table>\n",
              "</div>"
            ],
            "text/plain": [
              "      password  strength\n",
              "0     kzde5577         1\n",
              "1     kino3434         1\n",
              "2    visi7k1yr         1\n",
              "3     megzy123         1\n",
              "4  lamborghin1         1"
            ]
          },
          "metadata": {
            "tags": []
          },
          "execution_count": 5
        }
      ]
    },
    {
      "cell_type": "code",
      "metadata": {
        "id": "TprGm_3Zswa-",
        "outputId": "6f01bdf1-6120-4fd7-8aef-57fdaade88bb",
        "colab": {
          "base_uri": "https://localhost:8080/"
        }
      },
      "source": [
        "data['strength'].unique()"
      ],
      "execution_count": 6,
      "outputs": [
        {
          "output_type": "execute_result",
          "data": {
            "text/plain": [
              "array([1, 2, 0])"
            ]
          },
          "metadata": {
            "tags": []
          },
          "execution_count": 6
        }
      ]
    },
    {
      "cell_type": "code",
      "metadata": {
        "id": "B4DLrZy5swbA"
      },
      "source": [
        ""
      ],
      "execution_count": 6,
      "outputs": []
    },
    {
      "cell_type": "markdown",
      "metadata": {
        "id": "lUek0AiwswbB"
      },
      "source": [
        "#### code to check all the missing values in my dataset"
      ]
    },
    {
      "cell_type": "code",
      "metadata": {
        "id": "0bRJSDREswbD",
        "outputId": "ba2ff732-8620-4834-c787-5e74d35dd941",
        "colab": {
          "base_uri": "https://localhost:8080/"
        }
      },
      "source": [
        "data.isna().sum()"
      ],
      "execution_count": 7,
      "outputs": [
        {
          "output_type": "execute_result",
          "data": {
            "text/plain": [
              "password    1\n",
              "strength    0\n",
              "dtype: int64"
            ]
          },
          "metadata": {
            "tags": []
          },
          "execution_count": 7
        }
      ]
    },
    {
      "cell_type": "code",
      "metadata": {
        "id": "PNeor9HoswbH",
        "outputId": "5c9a7bc5-8d0e-4e4d-b4e8-cfff11b9811d",
        "colab": {
          "base_uri": "https://localhost:8080/",
          "height": 80
        }
      },
      "source": [
        "data[data['password'].isnull()]"
      ],
      "execution_count": 8,
      "outputs": [
        {
          "output_type": "execute_result",
          "data": {
            "text/html": [
              "<div>\n",
              "<style scoped>\n",
              "    .dataframe tbody tr th:only-of-type {\n",
              "        vertical-align: middle;\n",
              "    }\n",
              "\n",
              "    .dataframe tbody tr th {\n",
              "        vertical-align: top;\n",
              "    }\n",
              "\n",
              "    .dataframe thead th {\n",
              "        text-align: right;\n",
              "    }\n",
              "</style>\n",
              "<table border=\"1\" class=\"dataframe\">\n",
              "  <thead>\n",
              "    <tr style=\"text-align: right;\">\n",
              "      <th></th>\n",
              "      <th>password</th>\n",
              "      <th>strength</th>\n",
              "    </tr>\n",
              "  </thead>\n",
              "  <tbody>\n",
              "    <tr>\n",
              "      <th>367579</th>\n",
              "      <td>NaN</td>\n",
              "      <td>0</td>\n",
              "    </tr>\n",
              "  </tbody>\n",
              "</table>\n",
              "</div>"
            ],
            "text/plain": [
              "       password  strength\n",
              "367579      NaN         0"
            ]
          },
          "metadata": {
            "tags": []
          },
          "execution_count": 8
        }
      ]
    },
    {
      "cell_type": "code",
      "metadata": {
        "id": "axh40CgcswbJ"
      },
      "source": [
        "data.dropna(inplace=True)"
      ],
      "execution_count": 9,
      "outputs": []
    },
    {
      "cell_type": "code",
      "metadata": {
        "id": "6dJXtADZswbM",
        "outputId": "f90367f9-4be5-4847-e5c5-430dd9b59c0d",
        "colab": {
          "base_uri": "https://localhost:8080/"
        }
      },
      "source": [
        "data.isnull().sum()"
      ],
      "execution_count": 10,
      "outputs": [
        {
          "output_type": "execute_result",
          "data": {
            "text/plain": [
              "password    0\n",
              "strength    0\n",
              "dtype: int64"
            ]
          },
          "metadata": {
            "tags": []
          },
          "execution_count": 10
        }
      ]
    },
    {
      "cell_type": "code",
      "metadata": {
        "id": "O1Tj7SIMswbP",
        "outputId": "bf24b0a1-46ff-49e0-9466-d9985f7a11e9",
        "colab": {
          "base_uri": "https://localhost:8080/",
          "height": 296
        }
      },
      "source": [
        "sns.countplot(data['strength'])"
      ],
      "execution_count": 11,
      "outputs": [
        {
          "output_type": "execute_result",
          "data": {
            "text/plain": [
              "<matplotlib.axes._subplots.AxesSubplot at 0x7ff753846210>"
            ]
          },
          "metadata": {
            "tags": []
          },
          "execution_count": 11
        },
        {
          "output_type": "display_data",
          "data": {
            "image/png": "[encoded data removed]",
            "text/plain": [
              "<Figure size 432x288 with 1 Axes>"
            ]
          },
          "metadata": {
            "tags": [],
            "needs_background": "light"
          }
        }
      ]
    },
    {
      "cell_type": "code",
      "metadata": {
        "id": "wrKoRMosswbR"
      },
      "source": [
        "password_tuple=np.array(data)"
      ],
      "execution_count": 12,
      "outputs": []
    },
    {
      "cell_type": "code",
      "metadata": {
        "id": "5Nuw4Ru9swbT",
        "outputId": "07c8ef56-83fc-4288-c7c7-febb71f524cc",
        "colab": {
          "base_uri": "https://localhost:8080/"
        }
      },
      "source": [
        "password_tuple"
      ],
      "execution_count": 13,
      "outputs": [
        {
          "output_type": "execute_result",
          "data": {
            "text/plain": [
              "array([['kzde5577', 1],\n",
              "       ['kino3434', 1],\n",
              "       ['visi7k1yr', 1],\n",
              "       ...,\n",
              "       ['184520socram', 1],\n",
              "       ['marken22a', 1],\n",
              "       ['fxx4pw4g', 1]], dtype=object)"
            ]
          },
          "metadata": {
            "tags": []
          },
          "execution_count": 13
        }
      ]
    },
    {
      "cell_type": "code",
      "metadata": {
        "id": "s15SUMimswbU"
      },
      "source": [
        ""
      ],
      "execution_count": 13,
      "outputs": []
    },
    {
      "cell_type": "markdown",
      "metadata": {
        "id": "MMbcSOH2swbV"
      },
      "source": [
        "#### shuffling randomly for robustness"
      ]
    },
    {
      "cell_type": "code",
      "metadata": {
        "id": "baqLm1UJswbW"
      },
      "source": [
        "import random\n",
        "random.shuffle(password_tuple)"
      ],
      "execution_count": 14,
      "outputs": []
    },
    {
      "cell_type": "code",
      "metadata": {
        "id": "cRG7EZwRswbX"
      },
      "source": [
        "x=[labels[0] for labels in password_tuple]\n",
        "y=[labels[1] for labels in password_tuple]\n"
      ],
      "execution_count": 15,
      "outputs": []
    },
    {
      "cell_type": "code",
      "metadata": {
        "id": "--tZ4ouoswbY",
        "outputId": "a756e656-0c49-4cc2-e415-212067f3fe2d",
        "colab": {
          "base_uri": "https://localhost:8080/"
        }
      },
      "source": [
        "x"
      ],
      "execution_count": 16,
      "outputs": [
        {
          "output_type": "execute_result",
          "data": {
            "text/plain": [
              "['kzde5577',\n",
              " 'kino3434',\n",
              " 'kino3434',\n",
              " 'kzde5577',\n",
              " 'megzy123',\n",
              " 'kino3434',\n",
              " 'lamborghin1',\n",
              " 'visi7k1yr',\n",
              " 'universe2908',\n",
              " 'kino3434',\n",
              " 'v1118714',\n",
              " 'megzy123',\n",
              " '612035180tok',\n",
              " 'v1118714',\n",
              " 'kino3434',\n",
              " 'asv5o9yu',\n",
              " 'g067057895',\n",
              " 'kzde5577',\n",
              " 'as326159',\n",
              " 'kzde5577',\n",
              " 'jytifok873',\n",
              " 'megzy123',\n",
              " '6975038lp',\n",
              " '6975038lp',\n",
              " 'intel1',\n",
              " 'kzde5577',\n",
              " 'kzde5577',\n",
              " 'cigicigi123',\n",
              " 'asv5o9yu',\n",
              " 'prisonbreak1',\n",
              " 'intel1',\n",
              " 'WUt9IZzE0OQ7PkNE',\n",
              " 'AVYq1lDE4MgAZfNt',\n",
              " 'cigicigi123',\n",
              " 'klara-tershina3H',\n",
              " 'lamborghin1',\n",
              " 'cigicigi123',\n",
              " 'elyass15@ajilent-ci',\n",
              " 'kswa2mrv',\n",
              " 'u6c8vhow',\n",
              " 'trabajonet9',\n",
              " '612035180tok',\n",
              " 'memjan123',\n",
              " 'trabajonet9',\n",
              " 'fk9qi21m',\n",
              " 'alimagik1',\n",
              " 'exitos2009',\n",
              " 'cigicigi123',\n",
              " 'asgaliu11',\n",
              " 'megzy123',\n",
              " 'yitbos77',\n",
              " 'jytifok873',\n",
              " 'WUt9IZzE0OQ7PkNE',\n",
              " 'kzde5577',\n",
              " 'asgaliu11',\n",
              " 'fk9qi21m',\n",
              " 'schalke04',\n",
              " 'fahad123',\n",
              " 'elyass15@ajilent-ci',\n",
              " 'calcifer32',\n",
              " 'c3h8bkzr',\n",
              " 'jerusalem393',\n",
              " 'a2531106',\n",
              " 'calcifer32',\n",
              " 'bozoxik602',\n",
              " 'asgaliu11',\n",
              " '0169395484a',\n",
              " '52558000aaa',\n",
              " 'obstacle25',\n",
              " 'd04m11',\n",
              " 'idofo673',\n",
              " 'sknq7m0',\n",
              " 'universe2908',\n",
              " 'exitos2009',\n",
              " 'yitbos77',\n",
              " 'khmer100.03278&?><Mnb',\n",
              " 'lsdlsd1',\n",
              " 'a2531106',\n",
              " 'cigicigi123',\n",
              " 'czuodhj972',\n",
              " 'faranumar91',\n",
              " 'lamborghin1',\n",
              " '6975038lp',\n",
              " 'openup12',\n",
              " 'lsdlsd1',\n",
              " 'juliana19',\n",
              " 'jytifok873',\n",
              " '6975038lp',\n",
              " 'jalingo1',\n",
              " 'ok>bdk',\n",
              " 'u6c8vhow',\n",
              " 'c3h8bkzr',\n",
              " 'p2share',\n",
              " 'd04m11',\n",
              " 'p2share',\n",
              " '123477889a',\n",
              " 'asgaliu11',\n",
              " 'faranumar91',\n",
              " '52558000aaa',\n",
              " 'faranumar91',\n",
              " 'lsdlsd1',\n",
              " 'ns2b0727',\n",
              " 'sbl571017',\n",
              " 'jalingo1',\n",
              " 'ga98SIzk0NwhiZaE',\n",
              " 'kVczcljg4OA25Aeb',\n",
              " 'tamanagung6',\n",
              " 'rntprns7',\n",
              " 'yk530mg8',\n",
              " 'matiofox08',\n",
              " 'jerusalem393',\n",
              " 'yitbos77',\n",
              " 'woon12',\n",
              " 'lsdlsd1',\n",
              " 'kjkjkj1',\n",
              " '838188linh',\n",
              " 'lsdlsd1',\n",
              " '123maxbala',\n",
              " 'ok>bdk',\n",
              " 'WUt9IZzE0OQ7PkNE',\n",
              " 'memjan123',\n",
              " 'v1118714',\n",
              " 'mmm23mm',\n",
              " 'asv5o9yu',\n",
              " 'hodygid757',\n",
              " 'k9b8cz6aj2',\n",
              " 'rntprns7',\n",
              " 'ass359',\n",
              " 'ejeko677',\n",
              " 'zoobike04',\n",
              " 'go7kew7a2po',\n",
              " 'openup12',\n",
              " 'yitbos77',\n",
              " 'gaymaids1',\n",
              " 'kswa2mrv',\n",
              " 'woon12',\n",
              " 'www32223222',\n",
              " 'klara-tershina3H',\n",
              " 'juliana19',\n",
              " 'warriors08',\n",
              " 'kzde5577',\n",
              " 'xyws951753',\n",
              " 'aquhih220',\n",
              " '2021848709.',\n",
              " 'kino3434',\n",
              " 'intel1',\n",
              " '64959rodro',\n",
              " 'kswa2mrv',\n",
              " 'il0vey0u',\n",
              " 'jonothepoop1',\n",
              " 'prisonbreak1',\n",
              " 'snolyuj04',\n",
              " 'czuodhj972',\n",
              " '5gzj5uf',\n",
              " 'czuodhj972',\n",
              " 'u6c8vhow',\n",
              " 'woon12',\n",
              " 's4m2dx9e6',\n",
              " 'portales1',\n",
              " 'd04m11',\n",
              " 'aquhih220',\n",
              " 'p2share',\n",
              " 'ejeko677',\n",
              " 'k1k2k3k4k5k6',\n",
              " 'icap12',\n",
              " 'ass359',\n",
              " '6tequila6',\n",
              " 'd04m11',\n",
              " '2010server',\n",
              " 'barra23',\n",
              " 'portales1',\n",
              " 'znbl5tj1',\n",
              " 'asv5o9yu',\n",
              " 'ga98SIzk0NwhiZaE',\n",
              " 'p@sslng2diword',\n",
              " 'mohantra1',\n",
              " 'puegwajy416',\n",
              " 'yut0838828185',\n",
              " '0870330135a',\n",
              " '20Dgw7TQ0OQVdly7',\n",
              " 'g067057895',\n",
              " 'tin030201',\n",
              " 'tia150979',\n",
              " 'ekufite742',\n",
              " 'lamborghin1',\n",
              " 'yut0838828185',\n",
              " 'fnmsdha476',\n",
              " '2yz4ewwg',\n",
              " 'v1118714',\n",
              " '123477889a',\n",
              " 'icap12',\n",
              " 'zgmfnwuq25',\n",
              " 'gdfn76',\n",
              " 'megzy123',\n",
              " '6975038lp',\n",
              " '12345yolanda',\n",
              " 'sanki1',\n",
              " 'igejasy712',\n",
              " 'p@sslng2diword',\n",
              " 'kinga22',\n",
              " 'peluchin4',\n",
              " 'jonothepoop1',\n",
              " 'puegwajy416',\n",
              " 'universe2908',\n",
              " 'moken7',\n",
              " 'kswa2mrv',\n",
              " '26522876p',\n",
              " '2fakjv',\n",
              " 'faranumar91',\n",
              " 'pHyqueDIyNQ8vmhb',\n",
              " 'go7kew7a2po',\n",
              " 'denise18',\n",
              " 'visi7k1yr',\n",
              " 'WUt9IZzE0OQ7PkNE',\n",
              " 'schalke04',\n",
              " 's9830950044',\n",
              " 'yllime123',\n",
              " 's4m2dx9e6',\n",
              " 'yu4cmn',\n",
              " 'asv5o9yu',\n",
              " '4fqa52vecr',\n",
              " 'zgmfnwuq25',\n",
              " 'z888888',\n",
              " 'sasuke4',\n",
              " '5gzj5uf',\n",
              " 'visi7k1yr',\n",
              " 'cigicigi123',\n",
              " 'matiofox08',\n",
              " 'potatobus150',\n",
              " 'rntprns7',\n",
              " 'elonex24',\n",
              " 'jytifok873',\n",
              " 'kinga22',\n",
              " '5gzj5uf',\n",
              " 'igejasy712',\n",
              " '6975038lp',\n",
              " 'p@sslng2diword',\n",
              " 'juliana19',\n",
              " 'jUV4dSDQwNwPpA36',\n",
              " 'yk530mg8',\n",
              " 'z3ro1sm',\n",
              " 'ubojig109',\n",
              " 'ldteugao6',\n",
              " 'go7kew7a2po',\n",
              " 'ldteugao6',\n",
              " 'ubojig109',\n",
              " '2021848709.',\n",
              " 'meriton23',\n",
              " 'matiofox08',\n",
              " 'IjUcOtYqAwel725',\n",
              " 'kyxvufl37',\n",
              " '3y6iwef2g6',\n",
              " 'asgaliu11',\n",
              " 'xW8-3w7-MFB-CKH',\n",
              " 'znbl5tj1',\n",
              " 'mickael12',\n",
              " '929865yt',\n",
              " 's9830950044',\n",
              " 'tin030201',\n",
              " 'vgnfs495vp',\n",
              " 'X9WVojjE4MgVAIiR',\n",
              " 'tomas7896',\n",
              " '6975038lp',\n",
              " 'universe2908',\n",
              " '6yy6yy',\n",
              " '6yy6yy',\n",
              " 'hpqkoxsn5',\n",
              " 'caramelo9',\n",
              " 'patri1973',\n",
              " 'xyws951753',\n",
              " 'juliel009',\n",
              " 'obstacle25',\n",
              " 'atigi839',\n",
              " 'holamundo1',\n",
              " 'roxana1993',\n",
              " 'samael666',\n",
              " 'teste10',\n",
              " 'yu4cmn',\n",
              " 'afs34214',\n",
              " 'matiofox08',\n",
              " 'universe2908',\n",
              " 'X9WVojjE4MgVAIiR',\n",
              " 'lamborghin1',\n",
              " 'fahad123',\n",
              " 'nicolas05',\n",
              " 'ajyrew547',\n",
              " 'alimagik1',\n",
              " 'finisterra1',\n",
              " 'demon10',\n",
              " 'juliel009',\n",
              " 'v1118714',\n",
              " 'zoobike04',\n",
              " 'patty94',\n",
              " 'kinga22',\n",
              " 'yu4cmn',\n",
              " 'mickael12',\n",
              " 'cesarmaio1',\n",
              " 'kry1z9',\n",
              " 't8IkFRDIxMAFV2JW',\n",
              " 'hpqkoxsn5',\n",
              " '123maxbala',\n",
              " 'marita1',\n",
              " 'nicolas05',\n",
              " 'xanyrum650',\n",
              " 'jerusalem393',\n",
              " 'gtlek',\n",
              " 'a110804032',\n",
              " 'change201',\n",
              " '6yy6yy',\n",
              " 'trabajonet9',\n",
              " 'ram@!sita15392',\n",
              " 'tamanagung6',\n",
              " 'elonex24',\n",
              " 'tahseen75',\n",
              " 'afs34214',\n",
              " 'llahetihw1',\n",
              " '123net123',\n",
              " 'matiofox08',\n",
              " 'mohantra1',\n",
              " 'yllime123',\n",
              " 'enziitoo1234',\n",
              " 'mike09',\n",
              " 'balamuc123',\n",
              " 'metopelo1623',\n",
              " 'den019520',\n",
              " 'hasan18',\n",
              " 'a03242241431a',\n",
              " 'qn5xpg3k00',\n",
              " 'weicat12',\n",
              " '33kanun03',\n",
              " 'enziitoo1234',\n",
              " 'khaled12',\n",
              " 'uou2dae',\n",
              " 'woon12',\n",
              " 'iwaguh884',\n",
              " 'z888888',\n",
              " 'hodygid757',\n",
              " '0112358mayin0',\n",
              " 'isqizkg1',\n",
              " '1597535youssi',\n",
              " 'tahseen75',\n",
              " 'sanki1',\n",
              " '10Erjrlmebup0n',\n",
              " 'fk9qi21m',\n",
              " 's0xwym7h',\n",
              " 'barra23',\n",
              " 'alchimie79',\n",
              " 'p@sslng2diword',\n",
              " 'jalingo1',\n",
              " 'mayur@8netinfotech',\n",
              " 'teste10',\n",
              " 'koabcswzt3',\n",
              " 'kyxvufl37',\n",
              " '3CgRg8DA1NQY1iEj',\n",
              " 'saule123',\n",
              " 'exitos2009',\n",
              " 'meopvywk628',\n",
              " 'warriors08',\n",
              " 'v10rica',\n",
              " 'juliel009',\n",
              " 'alchimie79',\n",
              " 'yllime123',\n",
              " 's4m2dx9e6',\n",
              " 'acetita478',\n",
              " 'asgaliu11',\n",
              " 'sbl571017',\n",
              " 'edcmki90',\n",
              " 'wycinu436',\n",
              " 'igejasy712',\n",
              " 'IjUcOtYqAwel725',\n",
              " 'sbaUsoTA1OAzuevI',\n",
              " 'X9WVojjE4MgVAIiR',\n",
              " 'cristiano7',\n",
              " 'barra23',\n",
              " 'isqizkg1',\n",
              " 'acetita478',\n",
              " '07dpv1127b',\n",
              " 'balamuc123',\n",
              " '0112358mayin0',\n",
              " 'nokia6020',\n",
              " 'wxS2ztDk4OATjBfI',\n",
              " 'ekufite742',\n",
              " 'RqsuUsDYxNgr8T40',\n",
              " 'kino3434',\n",
              " 'witek1709',\n",
              " 'a2486315',\n",
              " 'seng987321',\n",
              " 'k1k2k3k4k5k6',\n",
              " 'JEQuloqOFUd102',\n",
              " 'yu4cmn',\n",
              " 'juliana19',\n",
              " 'sbaUsoTA1OAzuevI',\n",
              " '0870330135a',\n",
              " 'just1n0k',\n",
              " 't8IkFRDIxMAFV2JW',\n",
              " 'pikey231',\n",
              " 'hayhayq2',\n",
              " 'sd6x9s3s',\n",
              " '929865yt',\n",
              " 'v1118714',\n",
              " 'hodygid757',\n",
              " 'c3h8bkzr',\n",
              " 'kikeq102',\n",
              " '3y6iwef2g6',\n",
              " 'aio42fv',\n",
              " 'teemteem97',\n",
              " 'klara-tershina3H',\n",
              " 'kino3434',\n",
              " 'go7kew7a2po',\n",
              " 'k1k2k3k4k5k6',\n",
              " 'nLIGyhTU1NQTAp6u',\n",
              " 'cigicigi123',\n",
              " '0169395484a',\n",
              " 'okn9zp9o',\n",
              " 'mazdarx7',\n",
              " 'patty94',\n",
              " '2010server',\n",
              " 'kikeq102',\n",
              " 'rLLh4WDQ2OAWbDO5',\n",
              " 'aio42fv',\n",
              " '2010server',\n",
              " 'xlxlxl777',\n",
              " 'examy624',\n",
              " 'pablo321159',\n",
              " 'klara-tershina3H',\n",
              " 'go7kew7a2po',\n",
              " 'tia150979',\n",
              " '1597535youssi',\n",
              " 'sd6x9s3s',\n",
              " 'AS0130066',\n",
              " '1qa2ws3ed4r',\n",
              " 'znbl5tj1',\n",
              " 'ryjypes139',\n",
              " 'xiau5ff',\n",
              " 's0xwym7h',\n",
              " 'znbl5tj1',\n",
              " '2010server',\n",
              " '2021848709.',\n",
              " 'seng987321',\n",
              " 'sysoja794',\n",
              " 'q0pv0fk',\n",
              " 'il0vey0u',\n",
              " 'okn9zp9o',\n",
              " 'yk530mg8',\n",
              " 'vgnfs495vp',\n",
              " 'ypodahe201',\n",
              " 'lrhxmevb620',\n",
              " 'Ju6BIMTU0MwYXtL4',\n",
              " '0870330135a',\n",
              " 'terrassa6',\n",
              " 'ninja420',\n",
              " 'hasan18',\n",
              " '746xitEGiqObog',\n",
              " 'sofietou74',\n",
              " 'bellsuki1',\n",
              " '0169395484a',\n",
              " 'aquhih220',\n",
              " 'enziitoo1234',\n",
              " 'aslpls2009',\n",
              " '2fakjv',\n",
              " 'zgmfnwuq25',\n",
              " 'xf6385494',\n",
              " '2akira2',\n",
              " 'kyxvufl37',\n",
              " '52558000aaa',\n",
              " 'fnmsdha476',\n",
              " 'uziwocy148',\n",
              " 'sanjaime1',\n",
              " 'jEzZXUTE3MgJ4fVk',\n",
              " '283671gus',\n",
              " 'balamuc123',\n",
              " 'weicat12',\n",
              " 'fbjurcd961',\n",
              " 'lamborghin1',\n",
              " 'wuzyci421',\n",
              " 'YADHJIGSAWS11',\n",
              " 'x8512514',\n",
              " 'd6VyrkFV6oblxNs5N8cW',\n",
              " 'desmondkok21',\n",
              " 'IjUcOtYqAwel725',\n",
              " 'sbaUsoTA1OAzuevI',\n",
              " 'graciela2',\n",
              " '19821010a',\n",
              " 'bencike7',\n",
              " 'hpqkoxsn5',\n",
              " 'paulino123',\n",
              " 'jerusalem393',\n",
              " 'e667794c1d',\n",
              " 'TyWM72UNEex8Q8Y',\n",
              " 'vehat387',\n",
              " 'pilatyj280',\n",
              " 'puegwajy416',\n",
              " 'ejeko677',\n",
              " 'gutergut599',\n",
              " '0112358mayin0',\n",
              " '6tequila6',\n",
              " 'ikanez886',\n",
              " '12345yolanda',\n",
              " 'lzhzad1989',\n",
              " 'c3h8bkzr',\n",
              " 'acetita478',\n",
              " 'mussuh4',\n",
              " 'kP82iqDMxNgBMxBP',\n",
              " 'poseidon2011',\n",
              " 'xanyrum650',\n",
              " 'barra23',\n",
              " 'obstacle25',\n",
              " 'zcsntdmhe098',\n",
              " 'cockw0mble',\n",
              " '1972vishara',\n",
              " 'lofebop480',\n",
              " 'acetita478',\n",
              " '2yz4ewwg',\n",
              " 'hola45',\n",
              " 'yy4129',\n",
              " 'a0972986650',\n",
              " 'kayal123',\n",
              " 'tukaxo486',\n",
              " 'oscar69',\n",
              " 'kuntz80',\n",
              " 'bencike7',\n",
              " 'adminmao888',\n",
              " 'prisonbreak1',\n",
              " 'koabcswzt3',\n",
              " '1qa2ws3ed4r',\n",
              " '838188linh',\n",
              " 'rLLh4WDQ2OAWbDO5',\n",
              " 'gandhi8513',\n",
              " 'junaid5',\n",
              " 'X9WVojjE4MgVAIiR',\n",
              " 'a2531106',\n",
              " 'kXzWOozU2MQ1Jv1h',\n",
              " 'mustang337',\n",
              " 'ocadezi586',\n",
              " 'qefoquf1uf',\n",
              " 'koabcswzt3',\n",
              " '838188linh',\n",
              " 'QWERTY0011',\n",
              " 'zidadoh258',\n",
              " 'afavin964',\n",
              " 'yami12',\n",
              " 'woaini0',\n",
              " 'rakag279',\n",
              " 'obstacle25',\n",
              " 'memjan123',\n",
              " 'mdaffandi74',\n",
              " 'purpledog1992',\n",
              " 'han19660120',\n",
              " 'sarahi1628',\n",
              " 'elabadmin1386',\n",
              " 'tin030201',\n",
              " 'nebunule2',\n",
              " 'asv5o9yu',\n",
              " 'princ3sa',\n",
              " 'papasito1991',\n",
              " 'mario489800',\n",
              " 'x8512514',\n",
              " 'bencike7',\n",
              " 'keithar1',\n",
              " 'balamuc123',\n",
              " 'kino3434',\n",
              " 'RqsuUsDYxNgr8T40',\n",
              " 'a2531106',\n",
              " 'sandra0547',\n",
              " '248sUqiFEJuRag',\n",
              " 'wo9aiwangyan',\n",
              " 'qn5xpg3k00',\n",
              " 'gerardway1',\n",
              " 'parent777',\n",
              " 'g3rappa',\n",
              " 'mustang337',\n",
              " 'ppnyadam09',\n",
              " 'pekai2004',\n",
              " 'planes123',\n",
              " 'ppnyadam09',\n",
              " 'lofebop480',\n",
              " 'gtlek',\n",
              " 'osimeytju12',\n",
              " 'uziwocy148',\n",
              " '1ngaymuadong',\n",
              " 'legna13',\n",
              " 'desmondkok21',\n",
              " 'hayhayq2',\n",
              " '2010server',\n",
              " '248sUqiFEJuRag',\n",
              " 'h1h2h3h4h5',\n",
              " 'jerusalem393',\n",
              " 'franczuk33',\n",
              " 'd4xQ3LjUwMQFVCYQ',\n",
              " 'fahad123',\n",
              " 'm4r4hne',\n",
              " 'rakag279',\n",
              " 'yzxwvgbdu503',\n",
              " 'yut0838828185',\n",
              " 'zoobike04',\n",
              " 'fk9qi21m',\n",
              " 'Staterkom20081993',\n",
              " 'just1n0k',\n",
              " 'hpqkoxsn5',\n",
              " 'webhost08',\n",
              " 'x0004534',\n",
              " 'woaini0',\n",
              " 'fr8OClDY1MAdEhHa',\n",
              " 's9830950044',\n",
              " 'mdaffandi74',\n",
              " 'okn9zp9o',\n",
              " 'fnmsdha476',\n",
              " 'pazzini24',\n",
              " 'igejasy712',\n",
              " '0VKWoODkwOAc0pZK',\n",
              " 'coy29061994',\n",
              " 'kabrito1',\n",
              " 'sydney213',\n",
              " 'hqh2eYjQxOQPYIsA',\n",
              " 'we34dar88',\n",
              " 'beijing168',\n",
              " 'kinga22',\n",
              " 'diegote10',\n",
              " 'graciela2',\n",
              " 'Oshity07142014',\n",
              " 'moimoimoi9',\n",
              " 'wearehis7',\n",
              " '6975038lp',\n",
              " 'x0004534',\n",
              " 'lugerp08',\n",
              " 'xawipy995',\n",
              " 'wuzyci421',\n",
              " '030005qw',\n",
              " 'whosdabest1',\n",
              " 'wxS2ztDk4OATjBfI',\n",
              " 'cifinew817',\n",
              " '1597535youssi',\n",
              " 'icap12',\n",
              " 'potatobus150',\n",
              " 'cdann123',\n",
              " 'kswa2mrv',\n",
              " 'paladinas1',\n",
              " 'tin030201',\n",
              " 'd4xQ3LjUwMQFVCYQ',\n",
              " 'nokia6020',\n",
              " 'as8594505',\n",
              " 'pablo321159',\n",
              " 'sanki1',\n",
              " 'krumbul123',\n",
              " 'xve33ea',\n",
              " 'just1n0k',\n",
              " 'gopal8420',\n",
              " 'uou2dae',\n",
              " 'moimoimoi9',\n",
              " 'universe2908',\n",
              " 'krishna2',\n",
              " '838188linh',\n",
              " 'obstacle25',\n",
              " 'tspirits08',\n",
              " '64959rodro',\n",
              " 'a110804032',\n",
              " 'purpledog1992',\n",
              " 'fnmsdha476',\n",
              " 'onurb1994',\n",
              " 'ocadezi586',\n",
              " 'gvczfel801',\n",
              " 'satelite31',\n",
              " 'uxyloga692',\n",
              " 'kVczcljg4OA25Aeb',\n",
              " 'teemteem97',\n",
              " 'gerardway1',\n",
              " '5gzj5uf',\n",
              " 'asgaliu11',\n",
              " 'tucagu356',\n",
              " 'muoaqxwc21',\n",
              " 'faqih82',\n",
              " 'nhfdff2512',\n",
              " 'n501iomf',\n",
              " 'xiau5ff',\n",
              " 'adminmao888',\n",
              " 'xlxlxl777',\n",
              " 'kabrito1',\n",
              " '123477889a',\n",
              " '19840510kkk1',\n",
              " 'whosdabest1',\n",
              " 'jerusalem393',\n",
              " 'topgan22',\n",
              " 'warriors08',\n",
              " 'barra23',\n",
              " '19821010a',\n",
              " 'ram@!sita15392',\n",
              " 'z888888',\n",
              " 'matiz4533',\n",
              " 'bencike7',\n",
              " 'folashade1',\n",
              " '5gzj5uf',\n",
              " 'moimoimoi9',\n",
              " 'teemteem97',\n",
              " 'aslpls2009',\n",
              " 'u6c8vhow',\n",
              " 'eth36498',\n",
              " 'PSVkampioen2013',\n",
              " '05bumd',\n",
              " 'Iamthelegend1!',\n",
              " 'ram@!sita15392',\n",
              " 'cigicigi123',\n",
              " 'a03242241431a',\n",
              " '4osxw4r',\n",
              " 'tPGMkBjkyMg3hGzu',\n",
              " 'a0972986650',\n",
              " 'sanjaime1',\n",
              " 'may112001',\n",
              " 'atigi839',\n",
              " 'ihana906',\n",
              " 'plumilla1',\n",
              " 'xW8-3w7-MFB-CKH',\n",
              " 'PEPITO00',\n",
              " 'luiskeko31',\n",
              " 'vmdo3i',\n",
              " '2010server',\n",
              " 'matiofox08',\n",
              " 'cdann123',\n",
              " 'L2i2ZwTg1MQajeBm',\n",
              " 'hylefup708',\n",
              " 'ixehawojEPe418',\n",
              " 'taiga0088',\n",
              " 'tot2531s',\n",
              " 'fk9qi21m',\n",
              " 'ginger972',\n",
              " 'yllime123',\n",
              " 'kXzWOozU2MQ1Jv1h',\n",
              " 'xyws951753',\n",
              " 'oatcake87',\n",
              " 'jEzZXUTE3MgJ4fVk',\n",
              " 'legna13',\n",
              " 'bugatti01',\n",
              " 'ram@!sita15392',\n",
              " 'lymuvop730',\n",
              " 'amandine666',\n",
              " 'xlxlxl777',\n",
              " 'yk530mg8',\n",
              " 'Jovan13lovekenthjusvan4ever',\n",
              " 'enziitoo1234',\n",
              " 'y0unus',\n",
              " 'mega0109',\n",
              " 'yuri110995',\n",
              " '12345yolanda',\n",
              " 'mussuh4',\n",
              " 'designer1206',\n",
              " 'warriors08',\n",
              " 'z7zbgIDkzMQeHUd9',\n",
              " 'LypOJUfuLYrO477',\n",
              " 'webstudio8',\n",
              " 'patri1973',\n",
              " 'oatcake87',\n",
              " 'yhwbzci130',\n",
              " 'caramelo9',\n",
              " '64whbrb351',\n",
              " 'fudijep286',\n",
              " 'xyws951753',\n",
              " '69556236gu',\n",
              " 'u03kz6ez',\n",
              " '1katertje',\n",
              " 'iwaguh884',\n",
              " '215466kenyi',\n",
              " '2yz4ewwg',\n",
              " 'hayhayq2',\n",
              " 'w9209640',\n",
              " 'qefoquf1uf',\n",
              " '248sUqiFEJuRag',\n",
              " 'saule123',\n",
              " 'ram@!sita15392',\n",
              " 'kuntz80',\n",
              " 'g067057895',\n",
              " 'butisugo39',\n",
              " 'oioo9og',\n",
              " 'enziitoo1234',\n",
              " 'u03kz6ez',\n",
              " 'jcav26',\n",
              " 'urban1',\n",
              " 'cristiano7',\n",
              " 'kikeq102',\n",
              " '2yz4ewwg',\n",
              " 'yut0838828185',\n",
              " 'eth36498',\n",
              " 'mario489800',\n",
              " '5gzj5uf',\n",
              " 'kukimuki123',\n",
              " 'ilonu497',\n",
              " 'mndzbqkv651',\n",
              " 'xlxlxl777',\n",
              " 'designer1206',\n",
              " '1245386fj',\n",
              " 'fk9qi21m',\n",
              " 'topgan22',\n",
              " 'afavin964',\n",
              " 'woaini0',\n",
              " 'pugceya468',\n",
              " 'd04m11',\n",
              " '1jancok',\n",
              " 'kyodai666',\n",
              " 'gill02',\n",
              " '1991vikash',\n",
              " 'ok>bdk',\n",
              " '3vszncp4',\n",
              " 'woon12',\n",
              " 'gracimir87',\n",
              " 'hamqrc6',\n",
              " 'hylefup708',\n",
              " 'p3rf3ct0',\n",
              " 'BsKbJHTY4NgesCOs',\n",
              " 'wo9aiwangyan',\n",
              " 'tspirits08',\n",
              " 'kate13',\n",
              " 'elperro1',\n",
              " 'jntjmh7',\n",
              " 'pardalgg5',\n",
              " 'ninja420',\n",
              " 'cristiano7',\n",
              " 'wjngzro27',\n",
              " 'hide68',\n",
              " 'islamasma12',\n",
              " 'angelinajol52',\n",
              " 'zcsntdmhe098',\n",
              " 'olmaz.',\n",
              " 'karl88',\n",
              " 'ocadezi586',\n",
              " '4165000yakub',\n",
              " 'pass0port',\n",
              " 'metopelo1623',\n",
              " 'mdaffandi74',\n",
              " 'gonzalez1559',\n",
              " 'juanito00',\n",
              " 'oscar69',\n",
              " 'bambink182',\n",
              " 'woon12',\n",
              " 'ycqtgdso3',\n",
              " 'wearehis7',\n",
              " 'gjm666',\n",
              " 'examy624',\n",
              " 'hisnipes1',\n",
              " 'legna13',\n",
              " 'zoblin80',\n",
              " 'jbtcnd6',\n",
              " 'kate13',\n",
              " 'jalingo1',\n",
              " '5874813o',\n",
              " 'lqksuym982',\n",
              " 'bc5e4vca',\n",
              " 'm4r4hne',\n",
              " 'kP82iqDMxNgBMxBP',\n",
              " 'lrhxmevb620',\n",
              " 'uoaef06gfqeb',\n",
              " 'twil8x0',\n",
              " 'graciela2',\n",
              " 'smart95',\n",
              " '0lELoCDI1NAy8u7D',\n",
              " 'mtvwyz001',\n",
              " 'ram@!sita15392',\n",
              " 'polo2014',\n",
              " 'whosdabest1',\n",
              " 'pap0spep0s',\n",
              " '1A2Z3E4R',\n",
              " '3rambywople',\n",
              " 'xyws951753',\n",
              " 'sysoja794',\n",
              " 'juany57',\n",
              " 'kenneth610',\n",
              " 'vocal0619',\n",
              " 'jules2109',\n",
              " 'jj46azbo',\n",
              " 'kswa2mrv',\n",
              " 'tim80327',\n",
              " '8g8x2su3',\n",
              " 'luiskeko31',\n",
              " 'matha81',\n",
              " 'khurram_',\n",
              " 'tiga33',\n",
              " 'uoaef06gfqeb',\n",
              " 'uqilyni846',\n",
              " 'il0vey0u',\n",
              " 'overlord3127',\n",
              " 'emufat882',\n",
              " 'cigicigi123',\n",
              " 'tspirits08',\n",
              " 'nebunule2',\n",
              " 'v1118714',\n",
              " 'lsdlsd1',\n",
              " 'sandra0547',\n",
              " '1994kerr1994',\n",
              " 'z888888',\n",
              " 'qn5xpg3k00',\n",
              " 'exitos2009',\n",
              " 'aslanmarco007',\n",
              " 'aio42fv',\n",
              " 'ginger972',\n",
              " 'galoucura1',\n",
              " 'BB11227122',\n",
              " '215466kenyi',\n",
              " 'sgtg5fq',\n",
              " 'nhiannei040',\n",
              " 'vuqADUSatAJO800',\n",
              " '3f5xd41l0ik7',\n",
              " 'eth36498',\n",
              " 'gdfn76',\n",
              " 'tukaxo486',\n",
              " 'h1h2h3h4h5',\n",
              " 'krishna2',\n",
              " 'clave2013',\n",
              " 'satelite31',\n",
              " 'barboza221294',\n",
              " 'pacman23',\n",
              " '248sUqiFEJuRag',\n",
              " 'evivad588',\n",
              " 'coy29061994',\n",
              " 'kenyu001',\n",
              " 'nikolas369',\n",
              " 'j2yj2yj2y',\n",
              " 'meriton23',\n",
              " 'l4torr3',\n",
              " 'afs34214',\n",
              " 'ocadezi586',\n",
              " 'ykfums1',\n",
              " 'adriana1',\n",
              " 'arigato3',\n",
              " 'v1s2c3456',\n",
              " 'hpw1907v',\n",
              " '029992546sj',\n",
              " 'IRZA98',\n",
              " 'L2i2ZwTg1MQajeBm',\n",
              " '00J46LTAxMgME7C4',\n",
              " 'kayal123',\n",
              " 'ekufite742',\n",
              " 'w1e2s3l4',\n",
              " '600eretz',\n",
              " '763EBFC5',\n",
              " '123net123',\n",
              " 'asoze777',\n",
              " 'c3h8bkzr',\n",
              " 'samemene@sm',\n",
              " 'q4Ger4OX7S2GZ3',\n",
              " 'iubat09',\n",
              " 'koabcswzt3',\n",
              " 'v1s2c3456',\n",
              " 'as8594505',\n",
              " '01161590m',\n",
              " '7942vikas',\n",
              " 'hylefup708',\n",
              " 'n501iomf',\n",
              " 'visi7k1yr',\n",
              " 'mndzbqkv651',\n",
              " '19821010a',\n",
              " '847XagYxUHUXOW',\n",
              " 'uxabeqo309',\n",
              " '00J46LTAxMgME7C4',\n",
              " 'asakapa22',\n",
              " 'macias2010',\n",
              " 'yllime123',\n",
              " 'Zdyf0kjMzNQycqPx',\n",
              " 'w1e2s3l4',\n",
              " 'yilmaz070',\n",
              " 'acgyj188',\n",
              " 'z7zbgIDkzMQeHUd9',\n",
              " 'sysoja794',\n",
              " '6U3xJzDE3Nggz3L1',\n",
              " 'naseKoBUMIg295',\n",
              " 'ajyrew547',\n",
              " 'bencike7',\n",
              " 'pardalgg5',\n",
              " 'krowka18',\n",
              " 'vocal0619',\n",
              " 'syjtdxlo81',\n",
              " 'taurofive16',\n",
              " 'gedu1t1ah',\n",
              " 'frhnsvelhfr1',\n",
              " 'Zdyf0kjMzNQycqPx',\n",
              " 'metopelo1623',\n",
              " 'tahseen75',\n",
              " 'urban1',\n",
              " 'RJXDk1zEyMwpyq0U',\n",
              " '101010hadis',\n",
              " '7l1hu1xa',\n",
              " '05bumd',\n",
              " '2d0d7qfz',\n",
              " 'han19660120',\n",
              " 'gedu1t1ah',\n",
              " 'ldteugao6',\n",
              " 'zu20081965',\n",
              " 'uou2dae',\n",
              " 'gtlek',\n",
              " 'taurofive16',\n",
              " '12rabialawwal',\n",
              " '12rabialawwal',\n",
              " 'cristiano7',\n",
              " 'mxvurqyws5',\n",
              " 'kyxvufl37',\n",
              " 'yv3hpf',\n",
              " 'yilmaz070',\n",
              " 'mike09',\n",
              " 'szdectoj2',\n",
              " 'q4Ger4OX7S2GZ3',\n",
              " 'pekai2004',\n",
              " '0123one47',\n",
              " 'orzwnyj91',\n",
              " 'marita1',\n",
              " ...]"
            ]
          },
          "metadata": {
            "tags": []
          },
          "execution_count": 16
        }
      ]
    },
    {
      "cell_type": "code",
      "metadata": {
        "id": "tqBgkXDZswbZ"
      },
      "source": [
        ""
      ],
      "execution_count": 16,
      "outputs": []
    },
    {
      "cell_type": "markdown",
      "metadata": {
        "id": "HRGQzYh9swbZ"
      },
      "source": [
        "#### create a custom function to split input into characters of list"
      ]
    },
    {
      "cell_type": "code",
      "metadata": {
        "id": "C4g97Y36swba"
      },
      "source": [
        "def word_divide_char(inputs):\n",
        "    character=[]\n",
        "    for i in inputs:\n",
        "        character.append(i)\n",
        "    return character"
      ],
      "execution_count": 17,
      "outputs": []
    },
    {
      "cell_type": "code",
      "metadata": {
        "id": "kIKddoODswba",
        "outputId": "b21be302-819c-4479-a8ce-557e7ffa37c3",
        "colab": {
          "base_uri": "https://localhost:8080/"
        }
      },
      "source": [
        "word_divide_char('kzde5577')"
      ],
      "execution_count": 18,
      "outputs": [
        {
          "output_type": "execute_result",
          "data": {
            "text/plain": [
              "['k', 'z', 'd', 'e', '5', '5', '7', '7']"
            ]
          },
          "metadata": {
            "tags": []
          },
          "execution_count": 18
        }
      ]
    },
    {
      "cell_type": "code",
      "metadata": {
        "id": "f5Ju8fpQswbb"
      },
      "source": [
        ""
      ],
      "execution_count": 18,
      "outputs": []
    },
    {
      "cell_type": "markdown",
      "metadata": {
        "id": "rkrvOFEHswbc"
      },
      "source": [
        "#### import TF-IDF vectorizer to convert String data into numerical data"
      ]
    },
    {
      "cell_type": "code",
      "metadata": {
        "id": "vFoC59yeswbc"
      },
      "source": [
        "from sklearn.feature_extraction.text import TfidfVectorizer"
      ],
      "execution_count": 19,
      "outputs": []
    },
    {
      "cell_type": "code",
      "metadata": {
        "id": "S8qVwtXdswbc"
      },
      "source": [
        "vectorizer=TfidfVectorizer(tokenizer=word_divide_char)"
      ],
      "execution_count": 20,
      "outputs": []
    },
    {
      "cell_type": "markdown",
      "metadata": {
        "id": "18glJVK_swbc"
      },
      "source": [
        "#### apply TF-IDF vectorizer on data"
      ]
    },
    {
      "cell_type": "code",
      "metadata": {
        "id": "LBxsICZnswbd"
      },
      "source": [
        "X=vectorizer.fit_transform(x)"
      ],
      "execution_count": 21,
      "outputs": []
    },
    {
      "cell_type": "code",
      "metadata": {
        "id": "Ds1AvvVTswbd",
        "outputId": "2d33d46e-59f4-45f5-85a6-bea46a13b5fc",
        "colab": {
          "base_uri": "https://localhost:8080/"
        }
      },
      "source": [
        "X.shape"
      ],
      "execution_count": 22,
      "outputs": [
        {
          "output_type": "execute_result",
          "data": {
            "text/plain": [
              "(669639, 130)"
            ]
          },
          "metadata": {
            "tags": []
          },
          "execution_count": 22
        }
      ]
    },
    {
      "cell_type": "code",
      "metadata": {
        "id": "ZU7LNdjFswbe",
        "outputId": "f4ab1ead-3703-4a8e-bfad-473b2304d543",
        "colab": {
          "base_uri": "https://localhost:8080/"
        }
      },
      "source": [
        "vectorizer.get_feature_names()"
      ],
      "execution_count": 23,
      "outputs": [
        {
          "output_type": "execute_result",
          "data": {
            "text/plain": [
              "['\\x05',\n",
              " '\\x06',\n",
              " '\\x08',\n",
              " '\\x0f',\n",
              " '\\x10',\n",
              " '\\x11',\n",
              " '\\x12',\n",
              " '\\x13',\n",
              " '\\x16',\n",
              " '\\x17',\n",
              " '\\x19',\n",
              " '\\x1b',\n",
              " '\\x1c',\n",
              " '\\x1d',\n",
              " '\\x1e',\n",
              " ' ',\n",
              " '!',\n",
              " '\"',\n",
              " '#',\n",
              " '$',\n",
              " '%',\n",
              " '&',\n",
              " '(',\n",
              " ')',\n",
              " '*',\n",
              " '+',\n",
              " '-',\n",
              " '.',\n",
              " '/',\n",
              " '0',\n",
              " '1',\n",
              " '2',\n",
              " '3',\n",
              " '4',\n",
              " '5',\n",
              " '6',\n",
              " '7',\n",
              " '8',\n",
              " '9',\n",
              " ';',\n",
              " '<',\n",
              " '=',\n",
              " '>',\n",
              " '?',\n",
              " '@',\n",
              " '[',\n",
              " '\\\\',\n",
              " ']',\n",
              " '^',\n",
              " '_',\n",
              " '`',\n",
              " 'a',\n",
              " 'b',\n",
              " 'c',\n",
              " 'd',\n",
              " 'e',\n",
              " 'f',\n",
              " 'g',\n",
              " 'h',\n",
              " 'i',\n",
              " 'j',\n",
              " 'k',\n",
              " 'l',\n",
              " 'm',\n",
              " 'n',\n",
              " 'o',\n",
              " 'p',\n",
              " 'q',\n",
              " 'r',\n",
              " 's',\n",
              " 't',\n",
              " 'u',\n",
              " 'v',\n",
              " 'w',\n",
              " 'x',\n",
              " 'y',\n",
              " 'z',\n",
              " '{',\n",
              " '|',\n",
              " '}',\n",
              " '~',\n",
              " '\\x7f',\n",
              " '\\x81',\n",
              " '¡',\n",
              " '¦',\n",
              " '§',\n",
              " '¨',\n",
              " '«',\n",
              " '°',\n",
              " '±',\n",
              " '²',\n",
              " '³',\n",
              " '´',\n",
              " 'µ',\n",
              " '¶',\n",
              " '·',\n",
              " '¹',\n",
              " 'º',\n",
              " '¾',\n",
              " '¿',\n",
              " 'ß',\n",
              " 'à',\n",
              " 'á',\n",
              " 'â',\n",
              " 'ä',\n",
              " 'å',\n",
              " 'æ',\n",
              " 'ç',\n",
              " 'é',\n",
              " 'ê',\n",
              " 'í',\n",
              " 'ï',\n",
              " 'ð',\n",
              " 'ñ',\n",
              " 'ò',\n",
              " 'ó',\n",
              " 'ô',\n",
              " 'õ',\n",
              " 'ö',\n",
              " '÷',\n",
              " 'ù',\n",
              " 'ú',\n",
              " 'û',\n",
              " 'ü',\n",
              " 'ý',\n",
              " 'þ',\n",
              " 'ÿ',\n",
              " 'ƒ',\n",
              " '‚',\n",
              " '™']"
            ]
          },
          "metadata": {
            "tags": []
          },
          "execution_count": 23
        }
      ]
    },
    {
      "cell_type": "code",
      "metadata": {
        "id": "dkeCCwg1swbf",
        "outputId": "6bbf137b-9b17-4e5d-f1c5-fe22ba058be6",
        "colab": {
          "base_uri": "https://localhost:8080/"
        }
      },
      "source": [
        "first_document_vector=X[0]\n",
        "first_document_vector"
      ],
      "execution_count": 24,
      "outputs": [
        {
          "output_type": "execute_result",
          "data": {
            "text/plain": [
              "<1x130 sparse matrix of type '<class 'numpy.float64'>'\n",
              "\twith 6 stored elements in Compressed Sparse Row format>"
            ]
          },
          "metadata": {
            "tags": []
          },
          "execution_count": 24
        }
      ]
    },
    {
      "cell_type": "code",
      "metadata": {
        "id": "29bqpP7eswbf",
        "outputId": "6ee8cf71-bbcd-4783-e11f-a48d53245755",
        "colab": {
          "base_uri": "https://localhost:8080/"
        }
      },
      "source": [
        "first_document_vector.T.todense()"
      ],
      "execution_count": 25,
      "outputs": [
        {
          "output_type": "execute_result",
          "data": {
            "text/plain": [
              "matrix([[0.        ],\n",
              "        [0.        ],\n",
              "        [0.        ],\n",
              "        [0.        ],\n",
              "        [0.        ],\n",
              "        [0.        ],\n",
              "        [0.        ],\n",
              "        [0.        ],\n",
              "        [0.        ],\n",
              "        [0.        ],\n",
              "        [0.        ],\n",
              "        [0.        ],\n",
              "        [0.        ],\n",
              "        [0.        ],\n",
              "        [0.        ],\n",
              "        [0.        ],\n",
              "        [0.        ],\n",
              "        [0.        ],\n",
              "        [0.        ],\n",
              "        [0.        ],\n",
              "        [0.        ],\n",
              "        [0.        ],\n",
              "        [0.        ],\n",
              "        [0.        ],\n",
              "        [0.        ],\n",
              "        [0.        ],\n",
              "        [0.        ],\n",
              "        [0.        ],\n",
              "        [0.        ],\n",
              "        [0.        ],\n",
              "        [0.        ],\n",
              "        [0.        ],\n",
              "        [0.        ],\n",
              "        [0.        ],\n",
              "        [0.56672981],\n",
              "        [0.        ],\n",
              "        [0.59192858],\n",
              "        [0.        ],\n",
              "        [0.        ],\n",
              "        [0.        ],\n",
              "        [0.        ],\n",
              "        [0.        ],\n",
              "        [0.        ],\n",
              "        [0.        ],\n",
              "        [0.        ],\n",
              "        [0.        ],\n",
              "        [0.        ],\n",
              "        [0.        ],\n",
              "        [0.        ],\n",
              "        [0.        ],\n",
              "        [0.        ],\n",
              "        [0.        ],\n",
              "        [0.        ],\n",
              "        [0.        ],\n",
              "        [0.28526342],\n",
              "        [0.22120555],\n",
              "        [0.        ],\n",
              "        [0.        ],\n",
              "        [0.        ],\n",
              "        [0.        ],\n",
              "        [0.        ],\n",
              "        [0.29176906],\n",
              "        [0.        ],\n",
              "        [0.        ],\n",
              "        [0.        ],\n",
              "        [0.        ],\n",
              "        [0.        ],\n",
              "        [0.        ],\n",
              "        [0.        ],\n",
              "        [0.        ],\n",
              "        [0.        ],\n",
              "        [0.        ],\n",
              "        [0.        ],\n",
              "        [0.        ],\n",
              "        [0.        ],\n",
              "        [0.        ],\n",
              "        [0.33615708],\n",
              "        [0.        ],\n",
              "        [0.        ],\n",
              "        [0.        ],\n",
              "        [0.        ],\n",
              "        [0.        ],\n",
              "        [0.        ],\n",
              "        [0.        ],\n",
              "        [0.        ],\n",
              "        [0.        ],\n",
              "        [0.        ],\n",
              "        [0.        ],\n",
              "        [0.        ],\n",
              "        [0.        ],\n",
              "        [0.        ],\n",
              "        [0.        ],\n",
              "        [0.        ],\n",
              "        [0.        ],\n",
              "        [0.        ],\n",
              "        [0.        ],\n",
              "        [0.        ],\n",
              "        [0.        ],\n",
              "        [0.        ],\n",
              "        [0.        ],\n",
              "        [0.        ],\n",
              "        [0.        ],\n",
              "        [0.        ],\n",
              "        [0.        ],\n",
              "        [0.        ],\n",
              "        [0.        ],\n",
              "        [0.        ],\n",
              "        [0.        ],\n",
              "        [0.        ],\n",
              "        [0.        ],\n",
              "        [0.        ],\n",
              "        [0.        ],\n",
              "        [0.        ],\n",
              "        [0.        ],\n",
              "        [0.        ],\n",
              "        [0.        ],\n",
              "        [0.        ],\n",
              "        [0.        ],\n",
              "        [0.        ],\n",
              "        [0.        ],\n",
              "        [0.        ],\n",
              "        [0.        ],\n",
              "        [0.        ],\n",
              "        [0.        ],\n",
              "        [0.        ],\n",
              "        [0.        ],\n",
              "        [0.        ],\n",
              "        [0.        ],\n",
              "        [0.        ],\n",
              "        [0.        ]])"
            ]
          },
          "metadata": {
            "tags": []
          },
          "execution_count": 25
        }
      ]
    },
    {
      "cell_type": "code",
      "metadata": {
        "id": "DQ9n0lklswbg",
        "outputId": "23d32e96-5f4c-4112-b501-b9b1ec9670bc",
        "colab": {
          "base_uri": "https://localhost:8080/",
          "height": 0
        }
      },
      "source": [
        "df=pd.DataFrame(first_document_vector.T.todense(),index=vectorizer.get_feature_names(),columns=['TF-IDF'])\n",
        "df.sort_values(by=['TF-IDF'],ascending=False)"
      ],
      "execution_count": 26,
      "outputs": [
        {
          "output_type": "execute_result",
          "data": {
            "text/html": [
              "<div>\n",
              "<style scoped>\n",
              "    .dataframe tbody tr th:only-of-type {\n",
              "        vertical-align: middle;\n",
              "    }\n",
              "\n",
              "    .dataframe tbody tr th {\n",
              "        vertical-align: top;\n",
              "    }\n",
              "\n",
              "    .dataframe thead th {\n",
              "        text-align: right;\n",
              "    }\n",
              "</style>\n",
              "<table border=\"1\" class=\"dataframe\">\n",
              "  <thead>\n",
              "    <tr style=\"text-align: right;\">\n",
              "      <th></th>\n",
              "      <th>TF-IDF</th>\n",
              "    </tr>\n",
              "  </thead>\n",
              "  <tbody>\n",
              "    <tr>\n",
              "      <th>7</th>\n",
              "      <td>0.591929</td>\n",
              "    </tr>\n",
              "    <tr>\n",
              "      <th>5</th>\n",
              "      <td>0.566730</td>\n",
              "    </tr>\n",
              "    <tr>\n",
              "      <th>z</th>\n",
              "      <td>0.336157</td>\n",
              "    </tr>\n",
              "    <tr>\n",
              "      <th>k</th>\n",
              "      <td>0.291769</td>\n",
              "    </tr>\n",
              "    <tr>\n",
              "      <th>d</th>\n",
              "      <td>0.285263</td>\n",
              "    </tr>\n",
              "    <tr>\n",
              "      <th>...</th>\n",
              "      <td>...</td>\n",
              "    </tr>\n",
              "    <tr>\n",
              "      <th>;</th>\n",
              "      <td>0.000000</td>\n",
              "    </tr>\n",
              "    <tr>\n",
              "      <th>9</th>\n",
              "      <td>0.000000</td>\n",
              "    </tr>\n",
              "    <tr>\n",
              "      <th>8</th>\n",
              "      <td>0.000000</td>\n",
              "    </tr>\n",
              "    <tr>\n",
              "      <th>6</th>\n",
              "      <td>0.000000</td>\n",
              "    </tr>\n",
              "    <tr>\n",
              "      <th>™</th>\n",
              "      <td>0.000000</td>\n",
              "    </tr>\n",
              "  </tbody>\n",
              "</table>\n",
              "<p>130 rows × 1 columns</p>\n",
              "</div>"
            ],
            "text/plain": [
              "      TF-IDF\n",
              "7   0.591929\n",
              "5   0.566730\n",
              "z   0.336157\n",
              "k   0.291769\n",
              "d   0.285263\n",
              "..       ...\n",
              ";   0.000000\n",
              "9   0.000000\n",
              "8   0.000000\n",
              "6   0.000000\n",
              "™   0.000000\n",
              "\n",
              "[130 rows x 1 columns]"
            ]
          },
          "metadata": {
            "tags": []
          },
          "execution_count": 26
        }
      ]
    },
    {
      "cell_type": "code",
      "metadata": {
        "id": "BwVZ4LR6swbh"
      },
      "source": [
        ""
      ],
      "execution_count": 26,
      "outputs": []
    },
    {
      "cell_type": "markdown",
      "metadata": {
        "id": "GAVsE7atswbh"
      },
      "source": [
        "#### split data into train & test\n",
        "    train---> To learn the relationship within data, \n",
        "    test-->  To do predictions, and this testing data will be unseen to my model"
      ]
    },
    {
      "cell_type": "code",
      "metadata": {
        "id": "LG25-v_iswbh"
      },
      "source": [
        "from sklearn.model_selection import train_test_split"
      ],
      "execution_count": 27,
      "outputs": []
    },
    {
      "cell_type": "code",
      "metadata": {
        "id": "picx6zIFswbh"
      },
      "source": [
        "X_train, X_test, y_train, y_test=train_test_split(X,y,test_size=0.2)"
      ],
      "execution_count": 28,
      "outputs": []
    },
    {
      "cell_type": "code",
      "metadata": {
        "id": "dCn9nBg3swbi",
        "outputId": "f67f3696-020e-4a33-ce52-f1b3f02b80c3",
        "colab": {
          "base_uri": "https://localhost:8080/"
        }
      },
      "source": [
        "X_train.shape"
      ],
      "execution_count": 29,
      "outputs": [
        {
          "output_type": "execute_result",
          "data": {
            "text/plain": [
              "(535711, 130)"
            ]
          },
          "metadata": {
            "tags": []
          },
          "execution_count": 29
        }
      ]
    },
    {
      "cell_type": "code",
      "metadata": {
        "id": "wCVlyc4iswbi"
      },
      "source": [
        "from sklearn.linear_model import LogisticRegression"
      ],
      "execution_count": 30,
      "outputs": []
    },
    {
      "cell_type": "code",
      "metadata": {
        "id": "eE2eo-H8swbi"
      },
      "source": [
        ""
      ],
      "execution_count": 30,
      "outputs": []
    },
    {
      "cell_type": "markdown",
      "metadata": {
        "id": "k6LeTHptswbj"
      },
      "source": [
        "#### Apply Logistic on data as use-cas is Classification"
      ]
    },
    {
      "cell_type": "code",
      "metadata": {
        "id": "JmLz0Cv1swbj"
      },
      "source": [
        "clf=LogisticRegression(random_state=0,multi_class='multinomial')"
      ],
      "execution_count": 31,
      "outputs": []
    },
    {
      "cell_type": "code",
      "metadata": {
        "id": "W5F5_gMVswbj",
        "outputId": "62003623-8195-4b3e-b2a0-c4009c0e218b",
        "colab": {
          "base_uri": "https://localhost:8080/"
        }
      },
      "source": [
        "clf.fit(X_train,y_train)"
      ],
      "execution_count": 32,
      "outputs": [
        {
          "output_type": "execute_result",
          "data": {
            "text/plain": [
              "LogisticRegression(C=1.0, class_weight=None, dual=False, fit_intercept=True,\n",
              "                   intercept_scaling=1, l1_ratio=None, max_iter=100,\n",
              "                   multi_class='multinomial', n_jobs=None, penalty='l2',\n",
              "                   random_state=0, solver='lbfgs', tol=0.0001, verbose=0,\n",
              "                   warm_start=False)"
            ]
          },
          "metadata": {
            "tags": []
          },
          "execution_count": 32
        }
      ]
    },
    {
      "cell_type": "code",
      "metadata": {
        "id": "6HHyBebvswbj"
      },
      "source": [
        ""
      ],
      "execution_count": 32,
      "outputs": []
    },
    {
      "cell_type": "markdown",
      "metadata": {
        "id": "3pK47ZJ9swbj"
      },
      "source": [
        "#### doing prediction for specific custom data"
      ]
    },
    {
      "cell_type": "code",
      "metadata": {
        "id": "tTb_SIqYswbk",
        "outputId": "7ea1a8d1-f785-4b92-a714-c8f00c930b2f"
      },
      "source": [
        "dt=np.array(['%@123abcd'])\n",
        "pred=vectorizer.transform(dt)\n",
        "clf.predict(pred)"
      ],
      "execution_count": null,
      "outputs": [
        {
          "output_type": "execute_result",
          "data": {
            "text/plain": [
              "array([1])"
            ]
          },
          "metadata": {
            "tags": []
          },
          "execution_count": 33
        }
      ]
    },
    {
      "cell_type": "code",
      "metadata": {
        "id": "EQlLQzejswbk"
      },
      "source": [
        ""
      ],
      "execution_count": null,
      "outputs": []
    },
    {
      "cell_type": "markdown",
      "metadata": {
        "id": "kc-pho-Tswbk"
      },
      "source": [
        "#### doing prediction on X-Test data"
      ]
    },
    {
      "cell_type": "code",
      "metadata": {
        "id": "R-Ipl40oswbk",
        "outputId": "809a8601-5a4c-4bf4-91b3-b86c4f16b3ce"
      },
      "source": [
        "y_pred=clf.predict(X_test)\n",
        "y_pred"
      ],
      "execution_count": null,
      "outputs": [
        {
          "output_type": "execute_result",
          "data": {
            "text/plain": [
              "array([1, 2, 2, ..., 1, 1, 1])"
            ]
          },
          "metadata": {
            "tags": []
          },
          "execution_count": 34
        }
      ]
    },
    {
      "cell_type": "code",
      "metadata": {
        "id": "PbV-qONPswbl"
      },
      "source": [
        ""
      ],
      "execution_count": null,
      "outputs": []
    },
    {
      "cell_type": "markdown",
      "metadata": {
        "id": "_-cvxr0Oswbl"
      },
      "source": [
        "#### check Accuracy of your model using confusion_matrix,accuracy_score"
      ]
    },
    {
      "cell_type": "code",
      "metadata": {
        "id": "vt7JNMNVswbl"
      },
      "source": [
        "from sklearn.metrics import confusion_matrix,accuracy_score"
      ],
      "execution_count": 33,
      "outputs": []
    },
    {
      "cell_type": "code",
      "metadata": {
        "id": "UOZGwm2eswbl",
        "outputId": "f050db19-684d-4b6f-d0e4-822d1f38005f"
      },
      "source": [
        "cm=confusion_matrix(y_test,y_pred)\n",
        "print(cm)\n",
        "print(accuracy_score(y_test,y_pred))"
      ],
      "execution_count": null,
      "outputs": [
        {
          "output_type": "stream",
          "text": [
            "[[ 5338 12530    18]\n",
            " [ 3811 92928  2629]\n",
            " [   50  4982 11642]]\n",
            "0.8206499014395795\n"
          ],
          "name": "stdout"
        }
      ]
    },
    {
      "cell_type": "code",
      "metadata": {
        "id": "S8FPkJeGswbm"
      },
      "source": [
        ""
      ],
      "execution_count": null,
      "outputs": []
    },
    {
      "cell_type": "markdown",
      "metadata": {
        "id": "yb7jKr4_swbm"
      },
      "source": [
        "##### create report of your model"
      ]
    },
    {
      "cell_type": "code",
      "metadata": {
        "id": "AQuWKNpRswbm",
        "outputId": "aee484d0-5b3a-4d94-bc35-383729ac2038"
      },
      "source": [
        "from sklearn.metrics import classification_report\n",
        "print(classification_report(y_test,y_pred))"
      ],
      "execution_count": null,
      "outputs": [
        {
          "output_type": "stream",
          "text": [
            "              precision    recall  f1-score   support\n",
            "\n",
            "           0       0.58      0.30      0.39     17886\n",
            "           1       0.84      0.94      0.89     99368\n",
            "           2       0.81      0.70      0.75     16674\n",
            "\n",
            "    accuracy                           0.82    133928\n",
            "   macro avg       0.75      0.64      0.68    133928\n",
            "weighted avg       0.80      0.82      0.80    133928\n",
            "\n"
          ],
          "name": "stdout"
        }
      ]
    },
    {
      "cell_type": "code",
      "metadata": {
        "id": "HXauOuhyswbn"
      },
      "source": [
        ""
      ],
      "execution_count": null,
      "outputs": []
    },
    {
      "cell_type": "code",
      "metadata": {
        "id": "qtaHstKLswbn"
      },
      "source": [
        ""
      ],
      "execution_count": null,
      "outputs": []
    }
  ]
}